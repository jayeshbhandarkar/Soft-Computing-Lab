{
  "cells": [
    {
      "cell_type": "code",
      "execution_count": 1,
      "metadata": {
        "id": "-FfEWeUSNOul"
      },
      "outputs": [],
      "source": [
        "from tabulate import tabulate"
      ]
    },
    {
      "cell_type": "code",
      "execution_count": 2,
      "metadata": {
        "colab": {
          "base_uri": "https://localhost:8080/"
        },
        "id": "Ps37_nG4Nm5L",
        "outputId": "08e624c8-039c-4538-ed43-37910ae1234a"
      },
      "outputs": [
        {
          "name": "stdout",
          "output_type": "stream",
          "text": [
            "x1    x2    w1    w2    t     O\n",
            "0     0     1     1     2     0\n",
            "0     1     1     1     2     0\n",
            "1     0     1     1     2     0\n",
            "1     1     1     1     2     1\n"
          ]
        }
      ],
      "source": [
        "x1=[0,0,1,1]\n",
        "x2=[0,1,0,1]\n",
        "w1=[1,1,1,1]\n",
        "w2=[1,1,1,1]\n",
        "\n",
        "t=2\n",
        "print(\"x1    x2    w1    w2    t     O\")\n",
        "for i in range(len(x1)):\n",
        "  if(x1[i]*w1[i] + x2[i]*w2[i])>=t:\n",
        "    print(x1[i],'   ',x2[i],'   ',w1[i],'   ',w2[i],'   ',t,'   ','1')\n",
        "  else:\n",
        "    print(x1[i],'   ',x2[i],'   ',w1[i],'   ',w2[i],'   ',t,'   ','0')"
      ]
    },
    {
      "cell_type": "code",
      "execution_count": 3,
      "metadata": {
        "colab": {
          "base_uri": "https://localhost:8080/"
        },
        "id": "ORQimcUJPINp",
        "outputId": "c464e7f1-018a-491b-839c-0ca72ac5351a"
      },
      "outputs": [
        {
          "name": "stdout",
          "output_type": "stream",
          "text": [
            "x1    x2    w1    w2    t     O\n",
            "0     0     1     1     1     0\n",
            "0     1     1     1     1     1\n",
            "1     0     1     1     1     1\n",
            "1     1     1     1     1     1\n"
          ]
        }
      ],
      "source": [
        "x1=[0,0,1,1]\n",
        "x2=[0,1,0,1]\n",
        "w1=[1,1,1,1]\n",
        "w2=[1,1,1,1]\n",
        "\n",
        "t=1\n",
        "print(\"x1    x2    w1    w2    t     O\")\n",
        "for i in range(len(x1)):\n",
        "  if(x1[i]*w1[i] + x2[i]*w2[i])>=t:\n",
        "    print(x1[i],'   ',x2[i],'   ',w1[i],'   ',w2[i],'   ',t,'   ','1')\n",
        "  else:\n",
        "    print(x1[i],'   ',x2[i],'   ',w1[i],'   ',w2[i],'   ',t,'   ','0')"
      ]
    },
    {
      "cell_type": "code",
      "execution_count": 4,
      "metadata": {
        "colab": {
          "base_uri": "https://localhost:8080/"
        },
        "id": "naFRhdw9RKDP",
        "outputId": "b006bb78-8d53-455c-9b9b-f68485a2117b"
      },
      "outputs": [
        {
          "name": "stdout",
          "output_type": "stream",
          "text": [
            "x1    x2    O\n",
            "0    0    0\n",
            "0    1    1\n"
          ]
        }
      ],
      "source": [
        "x1=[0,0,0]\n",
        "x2=[0,1,1]\n",
        "w1=[1,0,1]\n",
        "W2=[1,1,0]\n",
        "print(\"x1    x2    O\")\n",
        "for i in range(len(x1)):\n",
        " if (x1[i]==x2[i]):\n",
        "  print(x1[i],'  ',x2[i],'  ',0)\n",
        "else:\n",
        "  print(x1[i],'  ',x2[i],'  ',1)"
      ]
    }
  ],
  "metadata": {
    "colab": {
      "provenance": []
    },
    "kernelspec": {
      "display_name": "Python 3",
      "name": "python3"
    },
    "language_info": {
      "codemirror_mode": {
        "name": "ipython",
        "version": 3
      },
      "file_extension": ".py",
      "mimetype": "text/x-python",
      "name": "python",
      "nbconvert_exporter": "python",
      "pygments_lexer": "ipython3",
      "version": "3.11.4"
    }
  },
  "nbformat": 4,
  "nbformat_minor": 0
}
