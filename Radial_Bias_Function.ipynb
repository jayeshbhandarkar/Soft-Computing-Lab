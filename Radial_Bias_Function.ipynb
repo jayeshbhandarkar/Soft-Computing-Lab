{
  "nbformat": 4,
  "nbformat_minor": 0,
  "metadata": {
    "colab": {
      "provenance": [],
      "authorship_tag": "ABX9TyNbYLzQz5ZddUvqG/7a10gk",
      "include_colab_link": true
    },
    "kernelspec": {
      "name": "python3",
      "display_name": "Python 3"
    },
    "language_info": {
      "name": "python"
    }
  },
  "cells": [
    {
      "cell_type": "markdown",
      "metadata": {
        "id": "view-in-github",
        "colab_type": "text"
      },
      "source": [
        "<a href=\"https://colab.research.google.com/github/jayeshbhandarkar/Soft-Computing-Lab/blob/main/Radial_Bias_Function.ipynb\" target=\"_parent\"><img src=\"https://colab.research.google.com/assets/colab-badge.svg\" alt=\"Open In Colab\"/></a>"
      ]
    },
    {
      "cell_type": "code",
      "execution_count": 1,
      "metadata": {
        "colab": {
          "base_uri": "https://localhost:8080/"
        },
        "id": "5Pk0Z40wR6Jb",
        "outputId": "b60d5c9b-03b7-4077-f14f-9a22f8d16890"
      },
      "outputs": [
        {
          "output_type": "stream",
          "name": "stdout",
          "text": [
            "Mean Squared Error: 0.031083658305225387\n"
          ]
        }
      ],
      "source": [
        "import numpy as np\n",
        "from scipy.spatial.distance import cdist\n",
        "\n",
        "# Generate sample data\n",
        "np.random.seed(0)\n",
        "X = np.random.rand(100, 2)\n",
        "y = np.sin(X[:, 0]) + np.cos(X[:, 1])\n",
        "\n",
        "# Define the radial basis function\n",
        "def rbf(x, c, s):\n",
        "    return np.exp(-np.linalg.norm(x-c)**2 / (2 * s**2))\n",
        "\n",
        "# Choose centers using k-means\n",
        "from sklearn.cluster import KMeans\n",
        "kmeans = KMeans(n_clusters=10).fit(X)\n",
        "centers = kmeans.cluster_centers_\n",
        "\n",
        "# Calculate the spread parameter\n",
        "d_max = np.max(cdist(centers, centers, 'euclidean'))\n",
        "sigma = d_max / np.sqrt(2 * len(centers))\n",
        "\n",
        "# Compute the RBF layer output\n",
        "R = np.zeros((X.shape[0], len(centers)))\n",
        "for i in range(X.shape[0]):\n",
        "    for j in range(len(centers)):\n",
        "        R[i, j] = rbf(X[i], centers[j], sigma)\n",
        "\n",
        "# Compute the output weights\n",
        "W = np.dot(np.linalg.pinv(R), y)\n",
        "\n",
        "# Define the RBF network prediction function\n",
        "def rbf_network(X, centers, sigma, W):\n",
        "    R = np.zeros((X.shape[0], len(centers)))\n",
        "    for i in range(X.shape[0]):\n",
        "        for j in range(len(centers)):\n",
        "            R[i, j] = rbf(X[i], centers[j], sigma)\n",
        "    return np.dot(R, W)\n",
        "\n",
        "# Make predictions\n",
        "y_pred = rbf_network(X, centers, sigma, W)\n",
        "\n",
        "# Evaluate the model\n",
        "from sklearn.metrics import mean_squared_error\n",
        "mse = mean_squared_error(y, y_pred)\n",
        "print(f\"Mean Squared Error: {mse}\")\n"
      ]
    }
  ]
}