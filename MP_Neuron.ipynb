{
  "nbformat": 4,
  "nbformat_minor": 0,
  "metadata": {
    "colab": {
      "provenance": [],
      "authorship_tag": "ABX9TyNvC78OhRRM8GEgfuUdKfBX",
      "include_colab_link": true
    },
    "kernelspec": {
      "name": "python3",
      "display_name": "Python 3"
    },
    "language_info": {
      "name": "python"
    }
  },
  "cells": [
    {
      "cell_type": "markdown",
      "metadata": {
        "id": "view-in-github",
        "colab_type": "text"
      },
      "source": [
        "<a href=\"https://colab.research.google.com/github/jayeshbhandarkar/Soft-Computing-Lab/blob/main/MP_Neuron.ipynb\" target=\"_parent\"><img src=\"https://colab.research.google.com/assets/colab-badge.svg\" alt=\"Open In Colab\"/></a>"
      ]
    },
    {
      "cell_type": "code",
      "execution_count": 16,
      "metadata": {
        "id": "9R_gRpBmW-hR"
      },
      "outputs": [],
      "source": [
        "from tabulate import tabulate"
      ]
    },
    {
      "cell_type": "code",
      "source": [
        "# AND GATE\n",
        "\n",
        "x1=[0,0,1,1]\n",
        "x2=[0,1,0,1]\n",
        "w1=[1,1,1,1]\n",
        "w2=[1,1,1,1]\n",
        "\n",
        "t=2\n",
        "print(\"x1    x2    w1    w2    t     O\")\n",
        "for i in range(len(x1)):\n",
        "  if(x1[i]*w1[i] + x2[i]*w2[i])>=t:\n",
        "    print(x1[i],'   ',x2[i],'   ',w1[i],'   ',w2[i],'   ',t,'   ',1)\n",
        "  else:\n",
        "    print(x1[i],'   ',x2[i],'   ',w1[i],'   ',w2[i],'   ',t,'   ',0)"
      ],
      "metadata": {
        "colab": {
          "base_uri": "https://localhost:8080/"
        },
        "id": "3qt6L54kXFVl",
        "outputId": "7ed12f5a-3084-424d-e049-1d2d4ab3a8ee"
      },
      "execution_count": 17,
      "outputs": [
        {
          "output_type": "stream",
          "name": "stdout",
          "text": [
            "x1    x2    w1    w2    t     O\n",
            "0     0     1     1     2     0\n",
            "0     1     1     1     2     0\n",
            "1     0     1     1     2     0\n",
            "1     1     1     1     2     1\n"
          ]
        }
      ]
    },
    {
      "cell_type": "code",
      "source": [
        "# OR GATE\n",
        "\n",
        "x1=[0,0,1,1]\n",
        "x2=[0,1,0,1]\n",
        "w1=[1,1,1,1]\n",
        "w2=[1,1,1,1]\n",
        "\n",
        "t=1\n",
        "print(\"x1    x2    w1    w2    t     O\")\n",
        "for i in range(len(x1)):\n",
        "  if(x1[i]*w1[i] + x2[i]*w2[i])>=t:\n",
        "    print(x1[i],'   ',x2[i],'   ',w1[i],'   ',w2[i],'   ',t,'   ',1)\n",
        "  else:\n",
        "    print(x1[i],'   ',x2[i],'   ',w1[i],'   ',w2[i],'   ',t,'   ',0)"
      ],
      "metadata": {
        "colab": {
          "base_uri": "https://localhost:8080/"
        },
        "id": "PR-mX5fkXZfj",
        "outputId": "8ae5997d-10c2-404c-daed-b633ef960f08"
      },
      "execution_count": 18,
      "outputs": [
        {
          "output_type": "stream",
          "name": "stdout",
          "text": [
            "x1    x2    w1    w2    t     O\n",
            "0     0     1     1     1     0\n",
            "0     1     1     1     1     1\n",
            "1     0     1     1     1     1\n",
            "1     1     1     1     1     1\n"
          ]
        }
      ]
    },
    {
      "cell_type": "code",
      "source": [
        "# XOR GATE\n",
        "\n",
        "x1=[0,0,1,1]\n",
        "x2=[0,1,0,1]\n",
        "w1=[1,-1,-1,1]\n",
        "w2=[1,1,-1,-1]\n",
        "\n",
        "t1 = 0\n",
        "t2 = 1\n",
        "print(f\"{'x1':<4} {'x2':<4} {'w1':<4} {'w2':<4} {'t1':<4} {'t2':<4} {'O':<2}\")\n",
        "\n",
        "for i in range(len(x1)):\n",
        "  net1 = x1[i]*w1[i] + x2[i]*w2[i]\n",
        "  o1 = 1 if net1>=t1 else 0\n",
        "  net2 = o1*w1[i] + (1-o1)*w2[i]\n",
        "  o = 1 if net2>=t2 else 0\n",
        "  print(f\"{x1[i]:<4} {x2[i]:<4} {w1[i]:<4} {w2[i]:<4} {t1:<4} {t2:<4} {o:<2}\")"
      ],
      "metadata": {
        "colab": {
          "base_uri": "https://localhost:8080/"
        },
        "id": "rjKDkf2CXmJz",
        "outputId": "d6986f57-9f8d-4632-b4b7-e1c9bf4f62f0"
      },
      "execution_count": 19,
      "outputs": [
        {
          "output_type": "stream",
          "name": "stdout",
          "text": [
            "x1   x2   w1   w2   t1   t2   O \n",
            "0    0    1    1    0    1    1 \n",
            "0    1    -1   1    0    1    0 \n",
            "1    0    -1   -1   0    1    0 \n",
            "1    1    1    -1   0    1    1 \n"
          ]
        }
      ]
    },
    {
      "cell_type": "code",
      "source": [
        "# NOR GATE\n",
        "\n",
        "x1=[0,0,1,1]\n",
        "x2=[0,1,0,1]\n",
        "w1=[1,1,1,1]\n",
        "w2=[1,1,1,1]\n",
        "\n",
        "t=-1\n",
        "print(\"x1    x2    w1    w2     t     O\")\n",
        "for i in range(len(x1)):\n",
        "  if(x1[i]*w1[i] + x2[i]*w2[i])>=t:\n",
        "    print(x1[i],'   ',x2[i],'   ',w1[i],'   ',w2[i],'   ',t,'   ',1)\n",
        "  else:\n",
        "    print(x1[i],'   ',x2[i],'   ',w1[i],'   ',w2[i],'   ',t,'   ',0)"
      ],
      "metadata": {
        "colab": {
          "base_uri": "https://localhost:8080/"
        },
        "id": "OkmoI5D9X3vb",
        "outputId": "8c8e89fb-d8e6-4203-eae1-4a89c5b1ee73"
      },
      "execution_count": 20,
      "outputs": [
        {
          "output_type": "stream",
          "name": "stdout",
          "text": [
            "x1    x2    w1    w2     t     O\n",
            "0     0     1     1     -1     1\n",
            "0     1     1     1     -1     1\n",
            "1     0     1     1     -1     1\n",
            "1     1     1     1     -1     1\n"
          ]
        }
      ]
    }
  ]
}